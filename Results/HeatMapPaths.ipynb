{
 "metadata": {
  "language_info": {
   "codemirror_mode": {
    "name": "ipython",
    "version": 3
   },
   "file_extension": ".py",
   "mimetype": "text/x-python",
   "name": "python",
   "nbconvert_exporter": "python",
   "pygments_lexer": "ipython3",
   "version": "3.6.8"
  },
  "orig_nbformat": 2,
  "kernelspec": {
   "name": "python368jvsc74a57bd01634176dcb7b9a0030b848439a671ec38cb53658a8e0a8eaa3dba4c41dd37869",
   "display_name": "Python 3.6.8 64-bit"
  }
 },
 "nbformat": 4,
 "nbformat_minor": 2,
 "cells": [
  {
   "cell_type": "code",
   "execution_count": 1,
   "metadata": {},
   "outputs": [],
   "source": [
    "import numpy as np\n",
    "import cv2\n",
    "import matplotlib.pyplot as plt"
   ]
  },
  {
   "cell_type": "code",
   "execution_count": 2,
   "metadata": {},
   "outputs": [],
   "source": [
    "environment             = \"BlocksObstacles\""
   ]
  },
  {
   "cell_type": "code",
   "execution_count": 6,
   "metadata": {},
   "outputs": [],
   "source": [
    "f           = open(\"data/{}/BlocksObstacles Run 1 newreward - DQN stack-depth(stopped) - Collisions\".format(environment))"
   ]
  },
  {
   "cell_type": "code",
   "execution_count": 10,
   "metadata": {},
   "outputs": [],
   "source": [
    "f               = np.loadtxt('data/{}/BlocksObstacles Run 1 newreward - DQN stack-depth(stopped) - OutofView'.format(environment))\n",
    "y_values        = f[[i for i in range(len(f)) if i % 2 == 1]]\n",
    "x_values        = f[[i for i in range(len(f)) if i % 2 == 0]]\n",
    "list_of_values  = [[x_values, y_values]]"
   ]
  },
  {
   "cell_type": "code",
   "execution_count": 4,
   "metadata": {},
   "outputs": [],
   "source": [
    "uneven          = 0\n",
    "new_line        = []\n",
    "new_line.append([])\n",
    "new_line.append([])\n",
    "list_of_values  = []\n",
    "list_of_values.append(new_line)\n",
    "x_index         = 0\n",
    "\n",
    "for x in f:\n",
    "    if x == \"---\" or x == \"---\\n\":\n",
    "        new_line = []\n",
    "        new_line.append([])\n",
    "        new_line.append([])\n",
    "        list_of_values.append(new_line)\n",
    "        x_index += 1\n",
    "    else:\n",
    "        list_of_values[x_index][uneven].append(float(x))\n",
    "        if uneven == 0:\n",
    "            uneven = 1\n",
    "        else: \n",
    "            uneven = 0"
   ]
  },
  {
   "cell_type": "code",
   "execution_count": 140,
   "metadata": {},
   "outputs": [],
   "source": [
    "\"\"\"\n",
    "\n",
    "indexes         = [0,2,3, 7, 8, 9, 10, 11, 12, 17, 22, 23, 24, 25, 26, 27, 30, 35, 36, 37, 38, 39, 40, 41, 44, 49, 50, 51,52,  53, 56, 61, 62, 63, 64, 65, 72, 73, 74, 75, 76, 77, 85, 86, 87, 88, 89, 90, 98]\n",
    "for index in sorted(indexes, reverse=True):\n",
    "    del list_of_values[index]\n",
    "\n",
    "#list_of_values = np.delete(list_of_values, deletion)\n",
    "\n",
    "\"\"\""
   ]
  },
  {
   "cell_type": "code",
   "execution_count": 5,
   "metadata": {},
   "outputs": [
    {
     "output_type": "execute_result",
     "data": {
      "text/plain": [
       "True"
      ]
     },
     "metadata": {},
     "execution_count": 5
    }
   ],
   "source": [
    "background  = new_image = cv2.imread(\"data/{}.png\".format(environment))\n",
    "\n",
    "\n",
    "count = 0\n",
    "for episode in list_of_values:\n",
    "    if environment == \"BlocksNormal\":\n",
    "        y_array         = (((np.array(episode[0]) / 37.5) * 500) + 215)\n",
    "        x_array         = (((np.array(episode[1]) / 35) * 500) + 250)\n",
    "\n",
    "    if environment == \"BlocksObstacles\":\n",
    "        y_array         = (((np.array(episode[0]) / 31.5) * 500) + 218)\n",
    "        x_array         = (((np.array(episode[1]) / 29) * 500) + 250)\n",
    "\n",
    "    if environment == \"Factory\":\n",
    "        x_array         = (((np.array(episode[0]) / 32) * 500) + 350)\n",
    "        y_array         = (((np.array(episode[1]) / 34) * 500) + 400)\n",
    "\n",
    "    y_array         = y_array.astype(int)\n",
    "    y_array         = 500 - y_array\n",
    "\n",
    "    x_array         = x_array.astype(int)\n",
    "    x_array         = 500 - x_array\n",
    "\n",
    "    test_image = cv2.imread(\"data/{}.png\".format(environment))\n",
    "\n",
    "    if episode[0] != []:\n",
    "        #new_image[x_array[0]-3:x_array[0]+3, y_array[0]-3:y_array[0]+3] = [0,255,0]\n",
    "        #cv2.line(new_image, (y_array[-1]-3, x_array[-1]-3), (y_array[-1]+3, x_array[-1]+3), (0,0,255), 1)\n",
    "        #cv2.line(new_image, (y_array[-1]-3, x_array[-1]+3), (y_array[-1]+3, x_array[-1]-3), (0,0,255), 1)\n",
    "        new_image[x_array[-1]-3:x_array[-1]+3, y_array[-1]-3:y_array[-1]+3] = [0,0,255]\n",
    "        test_image[x_array[-1]-3:x_array[-1]+3, y_array[-1]-3:y_array[-1]+3] = [0,0,255]\n",
    "\n",
    "    for x in range(1, len(x_array)):\n",
    "        color       = (0, 255, 0)\n",
    "        thickness   = 1\n",
    "        cv2.line(new_image, (y_array[x-1], x_array[x-1]), (y_array[x], x_array[x]), color, thickness)\n",
    "        cv2.line(test_image, (y_array[x-1], x_array[x-1]), (y_array[x], x_array[x]), color, thickness)\n",
    "\n",
    "    #cv2.imwrite(\"figures/testing/episode {}.png\".format(count), test_image)\n",
    "    count += 1\n",
    "\n",
    "\n",
    "cv2.imwrite(\"figures/{} Adjusted Rewards Paths.png\".format(environment), new_image)\n"
   ]
  },
  {
   "cell_type": "code",
   "execution_count": 11,
   "metadata": {},
   "outputs": [
    {
     "output_type": "stream",
     "name": "stdout",
     "text": [
      "Amount of outofview:  29\n"
     ]
    },
    {
     "output_type": "execute_result",
     "data": {
      "text/plain": [
       "True"
      ]
     },
     "metadata": {},
     "execution_count": 11
    }
   ],
   "source": [
    "background  = new_image = cv2.imread(\"data/{}.png\".format(environment))\n",
    "\n",
    "print(\"Amount of outofview: \", len(x_values))\n",
    "\n",
    "if environment == \"BlocksNormal\":\n",
    "    y_array         = (((np.array(list_of_values[0][0]) / 37.5) * 500) + 215)\n",
    "    x_array         = (((np.array(list_of_values[0][1]) / 35) * 500) + 250)\n",
    "\n",
    "if environment == \"BlocksObstacles\":\n",
    "    y_array         = ((((x_values) / 31.5) * 500) + 218)\n",
    "    x_array         = ((((y_values) / 29) * 500) + 250)\n",
    "\n",
    "if environment == \"Factory\":\n",
    "    x_array         = ((((x_values) / 32) * 500) + 350)\n",
    "    y_array         = ((((y_values) / 34) * 500) + 400)\n",
    "\n",
    "y_array         = y_array.astype(int)\n",
    "y_array         = 500 - y_array\n",
    "\n",
    "x_array         = x_array.astype(int)\n",
    "x_array         = 500 - x_array\n",
    "\n",
    "for x in range(1, len(x_array)):\n",
    "    cv2.line(new_image, (y_array[x]-6, x_array[x]-6), (y_array[x]+6, x_array[x]+6), (0,255,0), 1)\n",
    "    cv2.line(new_image, (y_array[x]-6, x_array[x]+6), (y_array[x]+6, x_array[x]-6), (0,255,0), 1)\n",
    "\n",
    "cv2.imwrite(\"figures/{}Newreward OutofView.png\".format(environment), new_image)\n"
   ]
  }
 ]
}